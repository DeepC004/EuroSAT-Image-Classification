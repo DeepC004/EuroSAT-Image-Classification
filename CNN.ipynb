{
 "cells": [
  {
   "cell_type": "code",
   "execution_count": 3,
   "metadata": {},
   "outputs": [],
   "source": [
    "inputPath='E:\\CSLearning\\AI and ML\\Projects\\Satellite Image Classification\\Pictures\\Input'\n",
    "outputPath='E:\\CSLearning\\AI and ML\\Projects\\Satellite Image Classification\\Pictures\\Output'\n",
    "splitfolders.ratio(inputPath, output=outputPath, seed=1337, ratio=(0.8,0.0,0.2))"
   ]
  },
  {
   "cell_type": "code",
   "execution_count": 43,
   "metadata": {},
   "outputs": [],
   "source": [
    "import cv2\n",
    "import os\n",
    "from keras.models import Sequential\n",
    "from keras.layers import Dense\n",
    "from keras.layers import Dropout \n",
    "from keras.layers import Flatten\n",
    "from keras.layers.convolutional import Conv2D\n",
    "from keras.layers.convolutional import MaxPooling2D\n",
    "from matplotlib import pyplot as plt\n",
    "import splitfolders\n",
    "import pandas as pd\n",
    "from keras.utils import np_utils\n",
    "import numpy as np\n",
    "import tensorflow as tf"
   ]
  },
  {
   "cell_type": "code",
   "execution_count": 44,
   "metadata": {},
   "outputs": [],
   "source": [
    "X_test = []\n",
    "Y_test = []\n",
    "testPath = 'E:\\CSLearning\\AI and ML\\Projects\\Satellite Image Classification\\Pictures\\Output\\\\test'\n",
    "for folder in os.listdir(testPath):\n",
    "    for image in os.listdir(os.path.join(testPath, folder)):\n",
    "        X_test.append(cv2.imread(os.path.join(testPath, os.path.join(folder,image))))\n",
    "        Y_test.append(folder)"
   ]
  },
  {
   "cell_type": "code",
   "execution_count": 45,
   "metadata": {},
   "outputs": [],
   "source": [
    "X_train = []\n",
    "Y_train = []\n",
    "trainPath = 'E:\\CSLearning\\AI and ML\\Projects\\Satellite Image Classification\\Pictures\\Output\\\\train'\n",
    "for folder in os.listdir(trainPath):\n",
    "    for image in os.listdir(os.path.join(trainPath, folder)):\n",
    "        X_train.append(cv2.imread(os.path.join(trainPath, os.path.join(folder,image))))\n",
    "        Y_train.append(folder)"
   ]
  },
  {
   "cell_type": "code",
   "execution_count": 46,
   "metadata": {},
   "outputs": [],
   "source": [
    "Y_train = np.asarray(Y_train)\n",
    "X_test = np.asarray(X_test)\n",
    "X_train = np.asarray(X_train)\n",
    "Y_test = np.asarray(Y_test)"
   ]
  },
  {
   "cell_type": "code",
   "execution_count": 47,
   "metadata": {},
   "outputs": [
    {
     "name": "stdout",
     "output_type": "stream",
     "text": [
      "(21600, 64, 64, 3)\n",
      "(5400, 64, 64, 3)\n"
     ]
    }
   ],
   "source": [
    "print(X_train.shape)\n",
    "print(X_test.shape)"
   ]
  },
  {
   "cell_type": "code",
   "execution_count": 48,
   "metadata": {},
   "outputs": [],
   "source": [
    "X_train=X_train.astype('float32')\n",
    "X_test=X_test.astype('float32')"
   ]
  },
  {
   "cell_type": "code",
   "execution_count": 49,
   "metadata": {},
   "outputs": [
    {
     "name": "stdout",
     "output_type": "stream",
     "text": [
      "Model: \"sequential_4\"\n",
      "_________________________________________________________________\n",
      " Layer (type)                Output Shape              Param #   \n",
      "=================================================================\n",
      " conv2d_8 (Conv2D)           (None, 64, 64, 32)        896       \n",
      "                                                                 \n",
      " dropout_8 (Dropout)         (None, 64, 64, 32)        0         \n",
      "                                                                 \n",
      " conv2d_9 (Conv2D)           (None, 64, 64, 32)        9248      \n",
      "                                                                 \n",
      " max_pooling2d_4 (MaxPooling  (None, 32, 32, 32)       0         \n",
      " 2D)                                                             \n",
      "                                                                 \n",
      " flatten_4 (Flatten)         (None, 32768)             0         \n",
      "                                                                 \n",
      " dense_8 (Dense)             (None, 256)               8388864   \n",
      "                                                                 \n",
      " dropout_9 (Dropout)         (None, 256)               0         \n",
      "                                                                 \n",
      " dense_9 (Dense)             (None, 10)                2570      \n",
      "                                                                 \n",
      "=================================================================\n",
      "Total params: 8,401,578\n",
      "Trainable params: 8,401,578\n",
      "Non-trainable params: 0\n",
      "_________________________________________________________________\n"
     ]
    }
   ],
   "source": [
    "model = Sequential()\r\n",
    "model.add(Conv2D(32, (3,3), input_shape=(64,64,3), padding='same', activation='relu'))\r\n",
    "model.add(Dropout(0.2))\r\n",
    "model.add(Conv2D(32, (3,3), input_shape=(64,64,3), padding='same', activation='relu'))\r\n",
    "model.add(MaxPooling2D(pool_size=2,strides=2,padding='valid'))\r\n",
    "model.add(Flatten())\r\n",
    "model.add(Dense(256, activation='relu'))\r\n",
    "model.add(Dropout(0.5))\r\n",
    "model.add(Dense(10, activation='softmax'))\r\n",
    "model.summary()"
   ]
  },
  {
   "cell_type": "code",
   "execution_count": 50,
   "metadata": {},
   "outputs": [],
   "source": [
    "import random \n",
    "buf = list(zip(X_train,Y_train))\n",
    "random.shuffle(buf)\n",
    "X_train,Y_train = zip(*buf)\n",
    "buf = list(zip(X_test,Y_test))\n",
    "random.shuffle(buf)\n",
    "X_test,Y_test = zip(*buf)\n"
   ]
  },
  {
   "cell_type": "code",
   "execution_count": 51,
   "metadata": {},
   "outputs": [
    {
     "name": "stdout",
     "output_type": "stream",
     "text": [
      "(21600, 64, 64, 3)\n",
      "(5400, 64, 64, 3)\n"
     ]
    }
   ],
   "source": [
    "Y_train=np.asarray(Y_train)\n",
    "X_test=np.asarray(X_test)\n",
    "X_train = np.asarray(X_train)\n",
    "Y_test=np.asarray(Y_test)\n",
    "print(X_train.shape)\n",
    "print(X_test.shape)"
   ]
  },
  {
   "cell_type": "code",
   "execution_count": 52,
   "metadata": {},
   "outputs": [],
   "source": [
    "results = {\n",
    "    'AnnualCrop':0,\n",
    "    'Forest':1,\n",
    "    'HerbaceousVegetation':2,\n",
    "    'Highway':3,\n",
    "    'Industrial':4,\n",
    "    'Pasture':5,\n",
    "    'PermanentCrop':6,\n",
    "    'Residential':7,\n",
    "    'River':8,\n",
    "    'SeaLake':9\n",
    "}\n",
    "y_train = []\n",
    "for i in Y_train:\n",
    "    y_train.append(results.get(i))"
   ]
  },
  {
   "cell_type": "code",
   "execution_count": 53,
   "metadata": {},
   "outputs": [
    {
     "name": "stdout",
     "output_type": "stream",
     "text": [
      "[1. 0. 0. 0. 0. 0. 0. 0. 0. 0.]\n"
     ]
    }
   ],
   "source": [
    "y_train = np_utils.to_categorical(y_train)\n",
    "print(y_train[0])"
   ]
  },
  {
   "cell_type": "code",
   "execution_count": 54,
   "metadata": {},
   "outputs": [
    {
     "name": "stdout",
     "output_type": "stream",
     "text": [
      "(21600, 64, 64, 3)\n",
      "(21600,)\n",
      "(5400, 64, 64, 3)\n",
      "(5400,)\n"
     ]
    }
   ],
   "source": [
    "print(X_train.shape)\n",
    "print(Y_train.shape)\n",
    "print(X_test.shape)\n",
    "print(Y_test.shape)"
   ]
  },
  {
   "cell_type": "code",
   "execution_count": 55,
   "metadata": {},
   "outputs": [],
   "source": [
    "scale = X_train.max()\n",
    "X_train = X_train/scale\n",
    "X_test = X_test/scale\n",
    "\n",
    "mean = X_train.mean()\n",
    "X_train = X_train - mean\n",
    "X_test = X_test - mean"
   ]
  },
  {
   "cell_type": "code",
   "execution_count": 56,
   "metadata": {},
   "outputs": [],
   "source": [
    "model.compile(loss='categorical_crossentropy', optimizer='rmsprop', metrics=['categorical_accuracy'])"
   ]
  },
  {
   "cell_type": "code",
   "execution_count": 57,
   "metadata": {},
   "outputs": [
    {
     "name": "stdout",
     "output_type": "stream",
     "text": [
      "Epoch 1/10\n",
      "608/608 [==============================] - 99s 163ms/step - loss: 1.1419 - categorical_accuracy: 0.6004 - val_loss: 0.7964 - val_categorical_accuracy: 0.7204\n",
      "Epoch 2/10\n",
      "608/608 [==============================] - 100s 165ms/step - loss: 0.7374 - categorical_accuracy: 0.7463 - val_loss: 0.7636 - val_categorical_accuracy: 0.7278\n",
      "Epoch 3/10\n",
      "608/608 [==============================] - 100s 164ms/step - loss: 0.6097 - categorical_accuracy: 0.7942 - val_loss: 0.5925 - val_categorical_accuracy: 0.7995\n",
      "Epoch 4/10\n",
      "608/608 [==============================] - 101s 165ms/step - loss: 0.5389 - categorical_accuracy: 0.8223 - val_loss: 0.5747 - val_categorical_accuracy: 0.8065\n",
      "Epoch 5/10\n",
      "608/608 [==============================] - 100s 165ms/step - loss: 0.4877 - categorical_accuracy: 0.8413 - val_loss: 0.6202 - val_categorical_accuracy: 0.8051\n",
      "Epoch 6/10\n",
      "608/608 [==============================] - 103s 170ms/step - loss: 0.4585 - categorical_accuracy: 0.8573 - val_loss: 0.7091 - val_categorical_accuracy: 0.7681\n",
      "Epoch 7/10\n",
      "608/608 [==============================] - 102s 168ms/step - loss: 0.4417 - categorical_accuracy: 0.8635 - val_loss: 0.6203 - val_categorical_accuracy: 0.8042\n",
      "Epoch 8/10\n",
      "608/608 [==============================] - 102s 168ms/step - loss: 0.4440 - categorical_accuracy: 0.8650 - val_loss: 0.8290 - val_categorical_accuracy: 0.7079\n",
      "Epoch 9/10\n",
      "608/608 [==============================] - 104s 171ms/step - loss: 0.4637 - categorical_accuracy: 0.8740 - val_loss: 0.7000 - val_categorical_accuracy: 0.7935\n",
      "Epoch 10/10\n",
      "608/608 [==============================] - 102s 167ms/step - loss: 0.4149 - categorical_accuracy: 0.8750 - val_loss: 0.7953 - val_categorical_accuracy: 0.7630\n"
     ]
    },
    {
     "data": {
      "text/plain": "<keras.callbacks.History at 0x2d98668f430>"
     },
     "execution_count": 57,
     "metadata": {},
     "output_type": "execute_result"
    }
   ],
   "source": [
    "model.fit(X_train, y_train, epochs=10, batch_size=32, validation_split=0.1,verbose=1)"
   ]
  }
 ],
 "metadata": {
  "kernelspec": {
   "display_name": "Python 3 (ipykernel)",
   "language": "python",
   "name": "python3"
  },
  "language_info": {
   "codemirror_mode": {
    "name": "ipython",
    "version": 3
   },
   "file_extension": ".py",
   "mimetype": "text/x-python",
   "name": "python",
   "nbconvert_exporter": "python",
   "pygments_lexer": "ipython3",
   "version": "3.10.4"
  }
 },
 "nbformat": 4,
 "nbformat_minor": 5
}