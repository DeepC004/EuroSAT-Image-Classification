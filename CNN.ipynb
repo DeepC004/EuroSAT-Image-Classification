{
 "cells": [
  {
   "cell_type": "code",
   "execution_count": 1,
   "id": "92ebf141",
   "metadata": {},
   "outputs": [],
   "source": [
    "import cv2\n",
    "import os\n",
    "from keras.models import Sequential\n",
    "from keras.layers import Dense\n",
    "from keras.layers import Dropout \n",
    "from keras.layers import Flatten\n",
    "from keras.layers.convolutional import Conv2D\n",
    "from keras.layers.convolutional import MaxPooling2D\n",
    "from matplotlib import pyplot as plt\n",
    "import splitfolders\n",
    "import pandas as pd\n",
    "from keras.utils import np_utils\n",
    "import numpy as np\n",
    "import tensorflow as tf"
   ]
  },
  {
   "cell_type": "code",
   "execution_count": null,
   "id": "1b7bb008",
   "metadata": {},
   "outputs": [],
   "source": [
    "inputPath='E:\\CSLearning\\AI and ML\\Projects\\Satellite Image Classification\\Pictures\\Input'\n",
    "outputPath='E:\\CSLearning\\AI and ML\\Projects\\Satellite Image Classification\\Pictures\\Output'\n",
    "splitfolders.ratio(inputPath, output=outputPath, seed=1337, ratio=(0.8,0.0,0.2))"
   ]
  },
  {
   "cell_type": "code",
   "execution_count": 10,
   "id": "43760053",
   "metadata": {},
   "outputs": [
    {
     "ename": "AttributeError",
     "evalue": "'numpy.ndarray' object has no attribute 'append'",
     "output_type": "error",
     "traceback": [
      "\u001b[1;31m---------------------------------------------------------------------------\u001b[0m",
      "\u001b[1;31mAttributeError\u001b[0m                            Traceback (most recent call last)",
      "Input \u001b[1;32mIn [10]\u001b[0m, in \u001b[0;36m<cell line: 6>\u001b[1;34m()\u001b[0m\n\u001b[0;32m      6\u001b[0m \u001b[38;5;28;01mfor\u001b[39;00m folder \u001b[38;5;129;01min\u001b[39;00m os\u001b[38;5;241m.\u001b[39mlistdir(trainPath):\n\u001b[0;32m      7\u001b[0m     \u001b[38;5;28;01mfor\u001b[39;00m image \u001b[38;5;129;01min\u001b[39;00m os\u001b[38;5;241m.\u001b[39mlistdir(os\u001b[38;5;241m.\u001b[39mpath\u001b[38;5;241m.\u001b[39mjoin(trainPath, folder)):\n\u001b[1;32m----> 8\u001b[0m         \u001b[43mX_train\u001b[49m\u001b[38;5;241;43m.\u001b[39;49m\u001b[43mappend\u001b[49m(cv2\u001b[38;5;241m.\u001b[39mimread(os\u001b[38;5;241m.\u001b[39mpath\u001b[38;5;241m.\u001b[39mjoin(trainPath, os\u001b[38;5;241m.\u001b[39mpath\u001b[38;5;241m.\u001b[39mjoin(folder,image))))\n\u001b[0;32m      9\u001b[0m         Y_train\u001b[38;5;241m.\u001b[39mappend(folder)\n",
      "\u001b[1;31mAttributeError\u001b[0m: 'numpy.ndarray' object has no attribute 'append'"
     ]
    }
   ],
   "source": [
    "X_train = []\n",
    "Y_train = []\n",
    "X_train = np.asarray(X_train)\n",
    "\n",
    "trainPath = 'E:\\CSLearning\\AI and ML\\Projects\\Satellite Image Classification\\Pictures\\Output\\\\train'\n",
    "for folder in os.listdir(trainPath):\n",
    "    for image in os.listdir(os.path.join(trainPath, folder)):\n",
    "        X_train.append(cv2.imread(os.path.join(trainPath, os.path.join(folder,image))))\n",
    "        Y_train.append(folder)"
   ]
  },
  {
   "cell_type": "code",
   "execution_count": 32,
   "id": "ef08fe68",
   "metadata": {},
   "outputs": [
    {
     "name": "stdout",
     "output_type": "stream",
     "text": [
      "21600\n",
      "21600\n"
     ]
    }
   ],
   "source": [
    "print(len(X_train))\n",
    "print(len(Y_train))"
   ]
  },
  {
   "cell_type": "code",
   "execution_count": 7,
   "id": "f4649583",
   "metadata": {},
   "outputs": [],
   "source": [
    "X_test = []\n",
    "Y_test = []\n",
    "testPath = 'E:\\CSLearning\\AI and ML\\Projects\\Satellite Image Classification\\Pictures\\Output\\\\test'\n",
    "for folder in os.listdir(testPath):\n",
    "    for image in os.listdir(os.path.join(testPath, folder)):\n",
    "        X_test.append(cv2.imread(os.path.join(testPath, os.path.join(folder,image))))\n",
    "        Y_test.append(folder)"
   ]
  },
  {
   "cell_type": "code",
   "execution_count": 8,
   "id": "78a7fee8",
   "metadata": {},
   "outputs": [
    {
     "name": "stdout",
     "output_type": "stream",
     "text": [
      "5400\n",
      "5400\n"
     ]
    }
   ],
   "source": [
    "print(len(X_test))\n",
    "print(len(Y_test))"
   ]
  },
  {
   "cell_type": "code",
   "execution_count": 38,
   "id": "d0bcbf37",
   "metadata": {},
   "outputs": [
    {
     "name": "stdout",
     "output_type": "stream",
     "text": [
      "(21600,)\n",
      "(5400, 64, 64, 3)\n"
     ]
    }
   ],
   "source": [
    "print(X_train.shape)\n",
    "print(X_test.shape)"
   ]
  },
  {
   "cell_type": "code",
   "execution_count": 37,
   "id": "b6d9885a",
   "metadata": {},
   "outputs": [],
   "source": [
    "X_train = np.array(X_train,dtype=object)\n",
    "Y_train = np.array(Y_train)\n",
    "X_test = np.array(X_test)\n",
    "Y_test = np.array(Y_test)"
   ]
  },
  {
   "cell_type": "code",
   "execution_count": 13,
   "id": "40588917",
   "metadata": {},
   "outputs": [
    {
     "ename": "ValueError",
     "evalue": "setting an array element with a sequence.",
     "output_type": "error",
     "traceback": [
      "\u001b[1;31m---------------------------------------------------------------------------\u001b[0m",
      "\u001b[1;31mTypeError\u001b[0m                                 Traceback (most recent call last)",
      "\u001b[1;31mTypeError\u001b[0m: only size-1 arrays can be converted to Python scalars",
      "\nThe above exception was the direct cause of the following exception:\n",
      "\u001b[1;31mValueError\u001b[0m                                Traceback (most recent call last)",
      "Input \u001b[1;32mIn [13]\u001b[0m, in \u001b[0;36m<cell line: 1>\u001b[1;34m()\u001b[0m\n\u001b[1;32m----> 1\u001b[0m X_train\u001b[38;5;241m=\u001b[39m\u001b[43mX_train\u001b[49m\u001b[38;5;241;43m.\u001b[39;49m\u001b[43mastype\u001b[49m\u001b[43m(\u001b[49m\u001b[38;5;124;43m'\u001b[39;49m\u001b[38;5;124;43mfloat32\u001b[39;49m\u001b[38;5;124;43m'\u001b[39;49m\u001b[43m)\u001b[49m\n\u001b[0;32m      2\u001b[0m X_test\u001b[38;5;241m=\u001b[39mX_test\u001b[38;5;241m.\u001b[39mastype(\u001b[38;5;124m'\u001b[39m\u001b[38;5;124mfloat32\u001b[39m\u001b[38;5;124m'\u001b[39m)\n",
      "\u001b[1;31mValueError\u001b[0m: setting an array element with a sequence."
     ]
    }
   ],
   "source": [
    "X_train=X_train.astype('float32')\n",
    "X_test=X_test.astype('float32')"
   ]
  },
  {
   "cell_type": "code",
   "execution_count": 8,
   "id": "750a769b",
   "metadata": {},
   "outputs": [
    {
     "name": "stdout",
     "output_type": "stream",
     "text": [
      "Model: \"sequential\"\n",
      "_________________________________________________________________\n",
      " Layer (type)                Output Shape              Param #   \n",
      "=================================================================\n",
      " conv2d (Conv2D)             (None, 64, 64, 32)        896       \n",
      "                                                                 \n",
      " dropout (Dropout)           (None, 64, 64, 32)        0         \n",
      "                                                                 \n",
      " conv2d_1 (Conv2D)           (None, 64, 64, 32)        9248      \n",
      "                                                                 \n",
      " max_pooling2d (MaxPooling2D  (None, 32, 32, 32)       0         \n",
      " )                                                               \n",
      "                                                                 \n",
      " flatten (Flatten)           (None, 32768)             0         \n",
      "                                                                 \n",
      " dense (Dense)               (None, 128)               4194432   \n",
      "                                                                 \n",
      " dropout_1 (Dropout)         (None, 128)               0         \n",
      "                                                                 \n",
      " dense_1 (Dense)             (None, 10)                1290      \n",
      "                                                                 \n",
      "=================================================================\n",
      "Total params: 4,205,866\n",
      "Trainable params: 4,205,866\n",
      "Non-trainable params: 0\n",
      "_________________________________________________________________\n"
     ]
    }
   ],
   "source": [
    "model = Sequential()\n",
    "model.add(Conv2D(32, (3,3), input_shape=(64,64,3), padding='same', activation='relu'))\n",
    "model.add(Dropout(0.15))\n",
    "model.add(Conv2D(32, (3,3), input_shape=(64,64,3), padding='same', activation='relu'))\n",
    "model.add(MaxPooling2D(pool_size=2,strides=2,padding='valid'))\n",
    "model.add(Flatten())\n",
    "model.add(Dense(128, activation='relu'))\n",
    "model.add(Dropout(0.4))\n",
    "model.add(Dense(10, activation='softmax'))\n",
    "model.summary()"
   ]
  },
  {
   "cell_type": "code",
   "execution_count": 10,
   "id": "f50f3b0c",
   "metadata": {},
   "outputs": [],
   "source": [
    "import random \n",
    "buf = list(zip(X_train,Y_train))\n",
    "random.shuffle(buf)\n",
    "X_train,Y_train = zip(*buf)\n",
    "buf = list(zip(X_test,Y_test))\n",
    "random.shuffle(buf)\n",
    "X_test,Y_test = zip(*buf)\n"
   ]
  },
  {
   "cell_type": "code",
   "execution_count": 11,
   "id": "9496bc1a",
   "metadata": {},
   "outputs": [],
   "source": [
    "X_train = np.array(X_train)\n",
    "Y_train=np.array(Y_train)\n",
    "X_test=np.array(X_test)\n",
    "Y_test=np.array(Y_test)"
   ]
  },
  {
   "cell_type": "code",
   "execution_count": 12,
   "id": "f476537d",
   "metadata": {},
   "outputs": [],
   "source": [
    "results = {\n",
    "    'AnnualCrop':0,\n",
    "    'Forest':1,\n",
    "    'HerbaceousVegetation':2,\n",
    "    'Highway':3,\n",
    "    'Industrial':4,\n",
    "    'Pasture':5,\n",
    "    'PermanentCrop':6,\n",
    "    'Residential':7,\n",
    "    'River':8,\n",
    "    'SeaLake':9\n",
    "}\n",
    "y_train = []\n",
    "for i in Y_train:\n",
    "    y_train.append(results.get(i))"
   ]
  },
  {
   "cell_type": "code",
   "execution_count": 14,
   "id": "ececa08e",
   "metadata": {},
   "outputs": [
    {
     "name": "stdout",
     "output_type": "stream",
     "text": [
      "[0. 0. 0. 0. 0. 0. 1. 0. 0. 0.]\n"
     ]
    }
   ],
   "source": [
    "y_train = np_utils.to_categorical(y_train)\n",
    "print(y_train[0])"
   ]
  },
  {
   "cell_type": "code",
   "execution_count": 15,
   "id": "365d53d9",
   "metadata": {},
   "outputs": [
    {
     "name": "stdout",
     "output_type": "stream",
     "text": [
      "(21600, 64, 64, 3)\n",
      "(21600,)\n",
      "(5400, 64, 64, 3)\n",
      "(5400,)\n"
     ]
    }
   ],
   "source": [
    "print(X_train.shape)\n",
    "print(Y_train.shape)\n",
    "print(X_test.shape)\n",
    "print(Y_test.shape)"
   ]
  },
  {
   "cell_type": "code",
   "execution_count": 16,
   "id": "6261cc7d",
   "metadata": {},
   "outputs": [],
   "source": [
    "scale = X_train.max()\n",
    "X_train = X_train/scale\n",
    "X_test = X_test/scale\n",
    "\n",
    "mean = X_train.mean()\n",
    "X_train = X_train - mean\n",
    "X_test = X_test - mean"
   ]
  },
  {
   "cell_type": "code",
   "execution_count": 17,
   "id": "746262c4",
   "metadata": {},
   "outputs": [],
   "source": [
    "model.compile(loss='categorical_crossentropy', optimizer='rmsprop', metrics=['categorical_accuracy'])"
   ]
  },
  {
   "cell_type": "code",
   "execution_count": null,
   "id": "db7bd045",
   "metadata": {},
   "outputs": [
    {
     "name": "stdout",
     "output_type": "stream",
     "text": [
      "Epoch 1/10\n"
     ]
    }
   ],
   "source": [
    "model.fit(X_train, y_train, epochs=10, batch_size=16, validation_split=0.1)"
   ]
  }
 ],
 "metadata": {
  "kernelspec": {
   "display_name": "Python 3 (ipykernel)",
   "language": "python",
   "name": "python3"
  },
  "language_info": {
   "codemirror_mode": {
    "name": "ipython",
    "version": 3
   },
   "file_extension": ".py",
   "mimetype": "text/x-python",
   "name": "python",
   "nbconvert_exporter": "python",
   "pygments_lexer": "ipython3",
   "version": "3.10.4"
  }
 },
 "nbformat": 4,
 "nbformat_minor": 5
}
